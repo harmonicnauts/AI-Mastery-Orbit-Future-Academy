{
 "cells": [
  {
   "cell_type": "code",
   "execution_count": 16,
   "id": "f80adc10-f471-47c9-9dc4-502205bc9d70",
   "metadata": {
    "tags": []
   },
   "outputs": [
    {
     "name": "stdout",
     "output_type": "stream",
     "text": [
      "^C\n"
     ]
    }
   ],
   "source": [
    "!pip uninstall gym"
   ]
  },
  {
   "cell_type": "code",
   "execution_count": 18,
   "id": "f42840c1-2875-45a4-9392-21ac181bd8eb",
   "metadata": {
    "collapsed": true,
    "jupyter": {
     "outputs_hidden": true
    },
    "tags": []
   },
   "outputs": [
    {
     "name": "stdout",
     "output_type": "stream",
     "text": [
      "^C\n",
      "Collecting gym==0.21.0\n",
      "  Downloading gym-0.21.0.tar.gz (1.5 MB)\n",
      "     ---------------------------------------- 1.5/1.5 MB 3.1 MB/s eta 0:00:00\n",
      "  Preparing metadata (setup.py): started\n",
      "  Preparing metadata (setup.py): finished with status 'done'\n",
      "Requirement already satisfied: numpy>=1.18.0 in c:\\users\\nycht\\anaconda3\\lib\\site-packages (from gym==0.21.0) (1.23.5)\n",
      "Requirement already satisfied: cloudpickle>=1.2.0 in c:\\users\\nycht\\anaconda3\\lib\\site-packages (from gym==0.21.0) (2.0.0)\n",
      "Building wheels for collected packages: gym\n",
      "  Building wheel for gym (setup.py): started\n",
      "  Building wheel for gym (setup.py): finished with status 'done'\n",
      "  Created wheel for gym: filename=gym-0.21.0-py3-none-any.whl size=1616805 sha256=0c314cb839d2ef316f3682cf72020e0f5be10fba5b2882caf3a63e3cbcf19b05\n",
      "  Stored in directory: c:\\users\\nycht\\appdata\\local\\pip\\cache\\wheels\\b6\\16\\76\\7626b97c5534a18f652c1abadc0e1eae5c01fb3d3322b8ea6f\n",
      "Successfully built gym\n",
      "Installing collected packages: gym\n",
      "  Attempting uninstall: gym\n",
      "    Found existing installation: gym 0.26.2\n",
      "    Uninstalling gym-0.26.2:\n",
      "      Successfully uninstalled gym-0.26.2\n",
      "Successfully installed gym-0.21.0\n",
      "Collecting gym==0.21.0\n",
      "  Using cached gym-0.21.0.tar.gz (1.5 MB)\n",
      "  Preparing metadata (setup.py): started\n",
      "  Preparing metadata (setup.py): finished with status 'done'\n",
      "Requirement already satisfied: numpy>=1.18.0 in c:\\users\\nycht\\anaconda3\\lib\\site-packages (from gym==0.21.0) (1.23.5)\n",
      "Requirement already satisfied: cloudpickle>=1.2.0 in c:\\users\\nycht\\anaconda3\\lib\\site-packages (from gym==0.21.0) (2.0.0)\n",
      "Building wheels for collected packages: gym\n",
      "  Building wheel for gym (setup.py): started\n",
      "  Building wheel for gym (setup.py): finished with status 'done'\n",
      "  Created wheel for gym: filename=gym-0.21.0-py3-none-any.whl size=1616806 sha256=bf0a23713975d9212a53fb20b5aba911ba9f1cf1fc2f70eb5b1762e9b5449e7a\n",
      "  Stored in directory: c:\\users\\nycht\\appdata\\local\\pip\\cache\\wheels\\b6\\16\\76\\7626b97c5534a18f652c1abadc0e1eae5c01fb3d3322b8ea6f\n",
      "Successfully built gym\n",
      "Installing collected packages: gym\n",
      "  Attempting uninstall: gym\n",
      "    Found existing installation: gym 0.26.2\n",
      "    Can't uninstall 'gym'. No files were found to uninstall.\n",
      "Successfully installed gym-0.21.0\n"
     ]
    },
    {
     "name": "stderr",
     "output_type": "stream",
     "text": [
      "WARNING: Error parsing requirements for gym: [Errno 2] No such file or directory: 'c:\\\\users\\\\nycht\\\\anaconda3\\\\lib\\\\site-packages\\\\gym-0.26.2.dist-info\\\\METADATA'\n",
      "    WARNING: No metadata found in c:\\users\\nycht\\anaconda3\\lib\\site-packages\n"
     ]
    }
   ],
   "source": [
    "!pip install gym==0.21.0"
   ]
  },
  {
   "cell_type": "code",
   "execution_count": 3,
   "id": "dca12537",
   "metadata": {},
   "outputs": [],
   "source": [
    "import gym\n",
    "import numpy as np\n",
    "import operator\n",
    "from IPython.display import clear_output\n",
    "from time import sleep\n",
    "import random\n",
    "import itertools\n",
    "import tqdm\n",
    "\n",
    "tqdm.monitor_interval = 0"
   ]
  },
  {
   "cell_type": "code",
   "execution_count": 4,
   "id": "e73ef2ec",
   "metadata": {},
   "outputs": [],
   "source": [
    "env = gym.make('FrozenLake-v1')"
   ]
  },
  {
   "cell_type": "code",
   "execution_count": 13,
   "id": "f1ce3c58-3db1-47ac-9138-688f5075e9fd",
   "metadata": {},
   "outputs": [
    {
     "data": {
      "text/plain": [
       "16"
      ]
     },
     "execution_count": 13,
     "metadata": {},
     "output_type": "execute_result"
    }
   ],
   "source": [
    "env.observation_space.n"
   ]
  },
  {
   "cell_type": "code",
   "execution_count": 5,
   "id": "ce902407",
   "metadata": {},
   "outputs": [],
   "source": [
    "def create_random_policy(env):\n",
    "     policy = {}\n",
    "     for key in range(0, env.observation_space.n):\n",
    "          current_end = 0\n",
    "          p = {}\n",
    "          for action in range(0, env.action_space.n):\n",
    "               p[action] = 1 / env.action_space.n\n",
    "          policy[key] = p\n",
    "     return policy"
   ]
  },
  {
   "cell_type": "code",
   "execution_count": 6,
   "id": "b3ad50d7",
   "metadata": {},
   "outputs": [],
   "source": [
    "def create_state_action_dictionary(env, policy):\n",
    "    Q = {}\n",
    "    for key in policy.keys():\n",
    "         Q[key] = {a: 0.0 for a in range(0, env.action_space.n)}\n",
    "    return Q"
   ]
  },
  {
   "cell_type": "code",
   "execution_count": 7,
   "id": "772e87dc",
   "metadata": {},
   "outputs": [],
   "source": [
    "def run_game(env, policy, display=True):\n",
    "     env.reset()\n",
    "     episode = []\n",
    "     finished = False\n",
    "\n",
    "     while not finished:\n",
    "          s = env.env.s\n",
    "          if display:\n",
    "               clear_output(True)\n",
    "               env.render()\n",
    "               sleep(1)\n",
    "\n",
    "          timestep = []\n",
    "          timestep.append(s)\n",
    "          n = random.uniform(0, sum(policy[s].values()))\n",
    "          top_range = 0\n",
    "          for prob in policy[s].items():\n",
    "                 top_range += prob[1]\n",
    "                 if n < top_range:\n",
    "                       action = prob[0]\n",
    "                       break \n",
    "          state, reward, finished, info = env.step(action)\n",
    "          timestep.append(action)\n",
    "          timestep.append(reward)\n",
    "\n",
    "          episode.append(timestep)\n",
    "\n",
    "     if display:\n",
    "          clear_output(True)\n",
    "          env.render()\n",
    "          sleep(1)\n",
    "     return episode"
   ]
  },
  {
   "cell_type": "code",
   "execution_count": 8,
   "id": "13770a73",
   "metadata": {},
   "outputs": [],
   "source": [
    "def monte_carlo_e_soft(env, episodes, policy=None, epsilon=0.01):\n",
    "\n",
    "    if not policy:\n",
    "        policy = create_random_policy(env)  # Create an empty dictionary to store state action values    \n",
    "    Q = create_state_action_dictionary(env, policy) # Empty dictionary for storing rewards for each state-action pair\n",
    "    returns = {} # 3.\n",
    "    \n",
    "    for _ in range(episodes): # Looping through episodes\n",
    "        G = 0 # Store cumulative reward in G (initialized at 0)\n",
    "        episode = run_game(env=env, policy=policy, display=False) # Store state, action and value respectively \n",
    "        \n",
    "        # for loop through reversed indices of episode array. \n",
    "        # The logic behind it being reversed is that the eventual reward would be at the end. \n",
    "        # So we have to go back from the last timestep to the first one propagating result from the future.\n",
    "        \n",
    "        for i in reversed(range(0, len(episode))):   \n",
    "            s_t, a_t, r_t = episode[i] \n",
    "            state_action = (s_t, a_t)\n",
    "\n",
    "            G += r_t # Increment total reward by reward on current timestep\n",
    "            \n",
    "\n",
    "            if not state_action in [(x[0], x[1]) for x in episode[0:i]]: # \n",
    "                if returns.get(state_action):\n",
    "                    returns[state_action].append(G)\n",
    "                else:\n",
    "                    returns[state_action] = [G]     \n",
    "                Q[s_t][a_t] = sum(returns[state_action]) / len(returns[state_action]) # Average reward across episodes\n",
    "                \n",
    "                Q_list = list(map(lambda x: x[1], Q[s_t].items())) # Finding the action with maximum value\n",
    "                indices = [i for i, x in enumerate(Q_list) if x == max(Q_list)]\n",
    "                max_Q = random.choice(indices)\n",
    "                \n",
    "                A_star = max_Q # 14.\n",
    "                \n",
    "                for a in policy[s_t].items(): # Update action probability for s_t in policy\n",
    "                    if a[0] == A_star:\n",
    "                        policy[s_t][a[0]] = 1 - epsilon + (epsilon / abs(sum(policy[s_t].values())))\n",
    "                    else:\n",
    "                        policy[s_t][a[0]] = (epsilon / abs(sum(policy[s_t].values())))      \n",
    "    return policy"
   ]
  },
  {
   "cell_type": "code",
   "execution_count": 9,
   "id": "c4d954c8",
   "metadata": {},
   "outputs": [],
   "source": [
    "def test_policy(policy, env, episodes):\n",
    "      wins = 0\n",
    "      total_reward = 0\n",
    "      for i in range(episodes):\n",
    "            w = run_game(env, policy, display=False)[-1][-1]\n",
    "            if w == 1:\n",
    "                  wins += 1\n",
    "                  total_reward += 1\n",
    "      #average_reward = total_reward / episodes\n",
    "      return wins, total_reward"
   ]
  },
  {
   "cell_type": "code",
   "execution_count": 15,
   "id": "4fac979b",
   "metadata": {},
   "outputs": [
    {
     "ename": "ValueError",
     "evalue": "too many values to unpack (expected 4)",
     "output_type": "error",
     "traceback": [
      "\u001b[1;31m---------------------------------------------------------------------------\u001b[0m",
      "\u001b[1;31mValueError\u001b[0m                                Traceback (most recent call last)",
      "Input \u001b[1;32mIn [15]\u001b[0m, in \u001b[0;36m<cell line: 2>\u001b[1;34m()\u001b[0m\n\u001b[0;32m      1\u001b[0m episodes \u001b[38;5;241m=\u001b[39m \u001b[38;5;241m10000\u001b[39m\n\u001b[1;32m----> 2\u001b[0m policy \u001b[38;5;241m=\u001b[39m \u001b[43mmonte_carlo_e_soft\u001b[49m\u001b[43m(\u001b[49m\u001b[43menv\u001b[49m\u001b[43m,\u001b[49m\u001b[43m \u001b[49m\u001b[43mepisodes\u001b[49m\u001b[43m)\u001b[49m\n\u001b[0;32m      3\u001b[0m wins, total_reward \u001b[38;5;241m=\u001b[39m test_policy(policy, env, episodes)\n\u001b[0;32m      4\u001b[0m average_reward \u001b[38;5;241m=\u001b[39m total_reward \u001b[38;5;241m/\u001b[39m episodes\n",
      "Input \u001b[1;32mIn [8]\u001b[0m, in \u001b[0;36mmonte_carlo_e_soft\u001b[1;34m(env, episodes, policy, epsilon)\u001b[0m\n\u001b[0;32m      8\u001b[0m \u001b[38;5;28;01mfor\u001b[39;00m _ \u001b[38;5;129;01min\u001b[39;00m \u001b[38;5;28mrange\u001b[39m(episodes): \u001b[38;5;66;03m# Looping through episodes\u001b[39;00m\n\u001b[0;32m      9\u001b[0m     G \u001b[38;5;241m=\u001b[39m \u001b[38;5;241m0\u001b[39m \u001b[38;5;66;03m# Store cumulative reward in G (initialized at 0)\u001b[39;00m\n\u001b[1;32m---> 10\u001b[0m     episode \u001b[38;5;241m=\u001b[39m \u001b[43mrun_game\u001b[49m\u001b[43m(\u001b[49m\u001b[43menv\u001b[49m\u001b[38;5;241;43m=\u001b[39;49m\u001b[43menv\u001b[49m\u001b[43m,\u001b[49m\u001b[43m \u001b[49m\u001b[43mpolicy\u001b[49m\u001b[38;5;241;43m=\u001b[39;49m\u001b[43mpolicy\u001b[49m\u001b[43m,\u001b[49m\u001b[43m \u001b[49m\u001b[43mdisplay\u001b[49m\u001b[38;5;241;43m=\u001b[39;49m\u001b[38;5;28;43;01mFalse\u001b[39;49;00m\u001b[43m)\u001b[49m \u001b[38;5;66;03m# Store state, action and value respectively \u001b[39;00m\n\u001b[0;32m     12\u001b[0m     \u001b[38;5;66;03m# for loop through reversed indices of episode array. \u001b[39;00m\n\u001b[0;32m     13\u001b[0m     \u001b[38;5;66;03m# The logic behind it being reversed is that the eventual reward would be at the end. \u001b[39;00m\n\u001b[0;32m     14\u001b[0m     \u001b[38;5;66;03m# So we have to go back from the last timestep to the first one propagating result from the future.\u001b[39;00m\n\u001b[0;32m     16\u001b[0m     \u001b[38;5;28;01mfor\u001b[39;00m i \u001b[38;5;129;01min\u001b[39;00m \u001b[38;5;28mreversed\u001b[39m(\u001b[38;5;28mrange\u001b[39m(\u001b[38;5;241m0\u001b[39m, \u001b[38;5;28mlen\u001b[39m(episode))):   \n",
      "Input \u001b[1;32mIn [7]\u001b[0m, in \u001b[0;36mrun_game\u001b[1;34m(env, policy, display)\u001b[0m\n\u001b[0;32m     20\u001b[0m              action \u001b[38;5;241m=\u001b[39m prob[\u001b[38;5;241m0\u001b[39m]\n\u001b[0;32m     21\u001b[0m              \u001b[38;5;28;01mbreak\u001b[39;00m \n\u001b[1;32m---> 22\u001b[0m state, reward, finished, info \u001b[38;5;241m=\u001b[39m env\u001b[38;5;241m.\u001b[39mstep(action)\n\u001b[0;32m     23\u001b[0m timestep\u001b[38;5;241m.\u001b[39mappend(action)\n\u001b[0;32m     24\u001b[0m timestep\u001b[38;5;241m.\u001b[39mappend(reward)\n",
      "\u001b[1;31mValueError\u001b[0m: too many values to unpack (expected 4)"
     ]
    }
   ],
   "source": [
    "episodes = 10000\n",
    "policy = monte_carlo_e_soft(env, episodes)\n",
    "wins, total_reward = test_policy(policy, env, episodes)\n",
    "average_reward = total_reward / episodes\n",
    "\n",
    "print(f'number of wins over {episodes} episodes = {wins}')\n",
    "print(f'total reward over {episodes} episodes = {total_reward}')\n",
    "print(f'average reward over {episodes} episodes = {average_reward}')"
   ]
  },
  {
   "cell_type": "code",
   "execution_count": null,
   "id": "d9081755-d9e0-49ee-b4fa-543142c65e35",
   "metadata": {},
   "outputs": [],
   "source": []
  },
  {
   "cell_type": "code",
   "execution_count": null,
   "id": "725ff72b-c3d0-4df0-9a57-4deee177029c",
   "metadata": {},
   "outputs": [],
   "source": []
  }
 ],
 "metadata": {
  "kernelspec": {
   "display_name": "Python 3 (ipykernel)",
   "language": "python",
   "name": "python3"
  },
  "language_info": {
   "codemirror_mode": {
    "name": "ipython",
    "version": 3
   },
   "file_extension": ".py",
   "mimetype": "text/x-python",
   "name": "python",
   "nbconvert_exporter": "python",
   "pygments_lexer": "ipython3",
   "version": "3.10.9"
  }
 },
 "nbformat": 4,
 "nbformat_minor": 5
}
